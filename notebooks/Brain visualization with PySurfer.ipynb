{
 "cells": [
  {
   "cell_type": "code",
   "execution_count": 1,
   "metadata": {},
   "outputs": [
    {
     "name": "stdout",
     "output_type": "stream",
     "text": [
      "********************************************************************************\n",
      "WARNING: Imported VTK version (9.3) does not match the one used\n",
      "         to build the TVTK classes (9.2). This may cause problems.\n",
      "         Please rebuild TVTK.\n",
      "********************************************************************************\n",
      "\n"
     ]
    }
   ],
   "source": [
    "# Load libraries\n",
    "import os\n",
    "os.environ['QT_API'] = 'pyqt4'  # or 'pyside2'\n",
    "import numpy as np\n",
    "import nibabel as nib\n",
    "import pandas as pandas\n",
    "from surfer import Brain\n"
   ]
  },
  {
   "cell_type": "code",
   "execution_count": 56,
   "metadata": {},
   "outputs": [],
   "source": [
    "# Load tau time series file \n",
    "\n",
    "data = pandas.read_csv('Regional tau time series -with lobar volumes (without duplicates).csv')\n",
    "\n",
    "# Housekeeping \n",
    "data = data.drop('Unnamed: 0', axis=1)\n",
    "\n",
    "# Reorder to match DK\n",
    "new_order = [34,35,36,37,38,39,40,41,42,43,44,45,46,47,48,49,50,51,52,53,54,55,56,57,58,59,60,61,62,63,64,65,66,67,0,1,2,3,4,5,6,7,8,9,10,11,12,13,14,15,16,17,18,19,20,21,22,23,24,25,26,27,28,29,30,31,32,33,68,69,70,71,72,73,74,75,76,77,78,79,80,81,82,83,84,85]\n",
    "data = data.iloc[:, new_order]\n",
    "\n",
    "# ENTER TIME POINT HERE (row #) for tau visualization and create a data frame\n",
    "tau = data.iloc[25,:]\n",
    "\n",
    "# Prepare data to match annotation file\n",
    "tau = tau[:-52]"
   ]
  },
  {
   "cell_type": "code",
   "execution_count": 57,
   "metadata": {},
   "outputs": [],
   "source": [
    "# New values and labels to be inserted\n",
    "new_value_at_0 = 0\n",
    "new_label_at_0 = 'unknown'  # Assuming 'a' is the label for the new entry at index 1\n",
    "\n",
    "new_value_at_4 = 0\n",
    "new_label_at_4 = 'corpuscallosum'  # Assuming 'a' is the label for the new entry at index 4 (adjusted index due to the first insertion)\n",
    "\n",
    "# Splitting the series into parts around the insertion points\n",
    "part_between_0_and_4 = tau.iloc[0:3]\n",
    "part_after_4 = tau.iloc[3:]\n",
    "\n",
    "# Inserting the new values by creating new Series for them (with labels) and concatenating everything\n",
    "tau = pandas.concat([\n",
    "    pandas.Series([new_value_at_0], index=[new_label_at_0]),  # Insert new value with label at adjusted index 1\n",
    "    part_between_0_and_4,\n",
    "    pandas.Series([new_value_at_4], index=[new_label_at_4]),  # Insert new value with label at adjusted index 4\n",
    "    part_after_4\n",
    "])"
   ]
  },
  {
   "cell_type": "code",
   "execution_count": 58,
   "metadata": {},
   "outputs": [],
   "source": [
    "# Define \"SUBJECTS_DIR\n",
    "import os\n",
    "\n",
    "os.environ[\"SUBJECTS_DIR\"] = \"/Applications/freesurfer/subjects\""
   ]
  },
  {
   "cell_type": "code",
   "execution_count": 60,
   "metadata": {},
   "outputs": [
    {
     "name": "stdout",
     "output_type": "stream",
     "text": [
      "\n",
      "Read in the automatic parcellation of sulci and gyri.\n",
      "\n"
     ]
    }
   ],
   "source": [
    "# Initiate Brain object and load annotation file\n",
    "\n",
    "print(__doc__)\n",
    "\n",
    "subject_id = \"fsaverage\"\n",
    "hemi = \"lh\"\n",
    "surf = \"inflated\"\n",
    "\n",
    "\"\"\"\n",
    "Bring up the visualization.\n",
    "\"\"\"\n",
    "\n",
    "brain = Brain(subject_id, hemi, surf, background=\"white\", subjects_dir='/Applications/freesurfer/subjects')\n",
    "\n",
    "\"\"\"\n",
    "Read in the automatic parcellation of sulci and gyri.\n",
    "\"\"\"\n",
    "aparc_file = os.path.join(os.environ[\"SUBJECTS_DIR\"],\n",
    "                          subject_id, \"label\",\n",
    "                          hemi + \".aparc.annot\")\n",
    "labels, ctab, names = nib.freesurfer.read_annot(aparc_file)"
   ]
  },
  {
   "cell_type": "code",
   "execution_count": 61,
   "metadata": {},
   "outputs": [
    {
     "name": "stderr",
     "output_type": "stream",
     "text": [
      "/var/folders/bd/p6dnm7ns0tb9glfgc_h835k40000gn/T/ipykernel_39213/1386928114.py:11: FutureWarning: Series.__getitem__ treating keys as positions is deprecated. In a future version, integer keys will always be treated as labels (consistent with DataFrame behavior). To access a value by position, use `ser.iloc[pos]`\n",
      "  vtx_data = roi_data[labels]\n",
      "Exception occurred in traits notification handler for object: <mayavi.filters.threshold.Threshold object at 0x2a6416ea0>, trait: upper_threshold, old value: 1e+20, new value: 1.2512976898590622\n",
      "Traceback (most recent call last):\n",
      "  File \"/opt/homebrew/lib/python3.9/site-packages/traits/trait_notifiers.py\", line 342, in __call__\n",
      "    self.handler(*args)\n",
      "  File \"/opt/homebrew/lib/python3.9/site-packages/mayavi/filters/threshold.py\", line 174, in _upper_threshold_changed\n",
      "    fil.threshold_between(self.lower_threshold, new_value)\n",
      "  File \"/opt/homebrew/lib/python3.9/site-packages/tvtk/tvtk_classes.zip/tvtk_classes/threshold.py\", line 257, in threshold_between\n",
      "    ret = self._wrap_call(self._vtk_obj.ThresholdBetween, *args)\n",
      "AttributeError: 'vtkmodules.vtkFiltersCore.vtkThreshold' object has no attribute 'ThresholdBetween'\n",
      "Exception occurred in traits notification handler for object: <mayavi.filters.threshold.Threshold object at 0x2a6416ea0>, trait: lower_threshold, old value: -1.0, new value: 0.0\n",
      "Traceback (most recent call last):\n",
      "  File \"/opt/homebrew/lib/python3.9/site-packages/traits/trait_notifiers.py\", line 342, in __call__\n",
      "    self.handler(*args)\n",
      "  File \"/opt/homebrew/lib/python3.9/site-packages/mayavi/filters/threshold.py\", line 168, in _lower_threshold_changed\n",
      "    fil.threshold_between(new_value, self.upper_threshold)\n",
      "  File \"/opt/homebrew/lib/python3.9/site-packages/tvtk/tvtk_classes.zip/tvtk_classes/threshold.py\", line 257, in threshold_between\n",
      "    ret = self._wrap_call(self._vtk_obj.ThresholdBetween, *args)\n",
      "AttributeError: 'vtkmodules.vtkFiltersCore.vtkThreshold' object has no attribute 'ThresholdBetween'\n"
     ]
    }
   ],
   "source": [
    "\n",
    "\"\"\"\n",
    "Make a random vector of scalar data corresponding to a value for each region in\n",
    "the parcellation.\n",
    "\n",
    "\"\"\"\n",
    "roi_data = tau\n",
    "\n",
    "\"\"\"\n",
    "Make a vector containing the data point at each vertex.\n",
    "\"\"\"\n",
    "vtx_data = roi_data[labels]\n",
    "\n",
    "\"\"\"\n",
    "Handle vertices that are not defined in the annotation.\n",
    "\"\"\"\n",
    "vtx_data[labels == -1] = -1\n",
    "\n",
    "\"\"\"\n",
    "Display these values on the brain. Use a sequential colormap (assuming\n",
    "these data move from low to high values), and add an alpha channel so the\n",
    "underlying anatomy is visible.\n",
    "\"\"\"\n",
    "brain.add_data(vtx_data, 0.8, 3, thresh=0, colormap=\"Blues\", alpha=.8)"
   ]
  }
 ],
 "metadata": {
  "kernelspec": {
   "display_name": "Python 3",
   "language": "python",
   "name": "python3"
  },
  "language_info": {
   "codemirror_mode": {
    "name": "ipython",
    "version": 3
   },
   "file_extension": ".py",
   "mimetype": "text/x-python",
   "name": "python",
   "nbconvert_exporter": "python",
   "pygments_lexer": "ipython3",
   "version": "3.9.18"
  },
  "orig_nbformat": 4
 },
 "nbformat": 4,
 "nbformat_minor": 2
}
